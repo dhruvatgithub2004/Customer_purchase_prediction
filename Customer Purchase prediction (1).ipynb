{
 "cells": [
  {
   "cell_type": "code",
   "execution_count": 1,
   "id": "060db715",
   "metadata": {},
   "outputs": [],
   "source": [
    "# All imports required \n",
    "import numpy as np\n",
    "import pandas as pd\n",
    "import matplotlib.pyplot as plt\n",
    "import seaborn as sns\n",
    "from sklearn.preprocessing import StandardScaler\n",
    "from sklearn.compose import ColumnTransformer\n",
    "from sklearn.model_selection import train_test_split,cross_val_score\n",
    "import tensorflow as tf\n",
    "from tensorflow import keras\n",
    "from tensorflow.keras import Sequential\n",
    "from tensorflow.keras.layers import Dense,Dropout,BatchNormalization\n",
    "from tensorflow.keras.callbacks import EarlyStopping\n",
    "from sklearn.metrics import accuracy_score,precision_score,recall_score,f1_score\n",
    "from sklearn.linear_model import LogisticRegression\n",
    "from sklearn.ensemble import RandomForestClassifier\n",
    "from sklearn.svm import SVC\n",
    "from sklearn.pipeline import Pipeline\n",
    "import pickle as pkl"
   ]
  },
  {
   "cell_type": "markdown",
   "id": "b45d905e",
   "metadata": {},
   "source": [
    "## Exploratory Data Analysis"
   ]
  },
  {
   "cell_type": "code",
   "execution_count": 2,
   "id": "414abbb0",
   "metadata": {},
   "outputs": [
    {
     "data": {
      "text/html": [
       "<div>\n",
       "<style scoped>\n",
       "    .dataframe tbody tr th:only-of-type {\n",
       "        vertical-align: middle;\n",
       "    }\n",
       "\n",
       "    .dataframe tbody tr th {\n",
       "        vertical-align: top;\n",
       "    }\n",
       "\n",
       "    .dataframe thead th {\n",
       "        text-align: right;\n",
       "    }\n",
       "</style>\n",
       "<table border=\"1\" class=\"dataframe\">\n",
       "  <thead>\n",
       "    <tr style=\"text-align: right;\">\n",
       "      <th></th>\n",
       "      <th>Age</th>\n",
       "      <th>Gender</th>\n",
       "      <th>AnnualIncome</th>\n",
       "      <th>NumberOfPurchases</th>\n",
       "      <th>ProductCategory</th>\n",
       "      <th>TimeSpentOnWebsite</th>\n",
       "      <th>LoyaltyProgram</th>\n",
       "      <th>DiscountsAvailed</th>\n",
       "      <th>PurchaseStatus</th>\n",
       "    </tr>\n",
       "  </thead>\n",
       "  <tbody>\n",
       "    <tr>\n",
       "      <th>0</th>\n",
       "      <td>40</td>\n",
       "      <td>1</td>\n",
       "      <td>66120.267939</td>\n",
       "      <td>8</td>\n",
       "      <td>0</td>\n",
       "      <td>30.568601</td>\n",
       "      <td>0</td>\n",
       "      <td>5</td>\n",
       "      <td>1</td>\n",
       "    </tr>\n",
       "    <tr>\n",
       "      <th>1</th>\n",
       "      <td>20</td>\n",
       "      <td>1</td>\n",
       "      <td>23579.773583</td>\n",
       "      <td>4</td>\n",
       "      <td>2</td>\n",
       "      <td>38.240097</td>\n",
       "      <td>0</td>\n",
       "      <td>5</td>\n",
       "      <td>0</td>\n",
       "    </tr>\n",
       "    <tr>\n",
       "      <th>2</th>\n",
       "      <td>27</td>\n",
       "      <td>1</td>\n",
       "      <td>127821.306432</td>\n",
       "      <td>11</td>\n",
       "      <td>2</td>\n",
       "      <td>31.633212</td>\n",
       "      <td>1</td>\n",
       "      <td>0</td>\n",
       "      <td>1</td>\n",
       "    </tr>\n",
       "    <tr>\n",
       "      <th>3</th>\n",
       "      <td>24</td>\n",
       "      <td>1</td>\n",
       "      <td>137798.623120</td>\n",
       "      <td>19</td>\n",
       "      <td>3</td>\n",
       "      <td>46.167059</td>\n",
       "      <td>0</td>\n",
       "      <td>4</td>\n",
       "      <td>1</td>\n",
       "    </tr>\n",
       "    <tr>\n",
       "      <th>4</th>\n",
       "      <td>31</td>\n",
       "      <td>1</td>\n",
       "      <td>99300.964220</td>\n",
       "      <td>19</td>\n",
       "      <td>1</td>\n",
       "      <td>19.823592</td>\n",
       "      <td>0</td>\n",
       "      <td>0</td>\n",
       "      <td>1</td>\n",
       "    </tr>\n",
       "  </tbody>\n",
       "</table>\n",
       "</div>"
      ],
      "text/plain": [
       "   Age  Gender   AnnualIncome  NumberOfPurchases  ProductCategory  \\\n",
       "0   40       1   66120.267939                  8                0   \n",
       "1   20       1   23579.773583                  4                2   \n",
       "2   27       1  127821.306432                 11                2   \n",
       "3   24       1  137798.623120                 19                3   \n",
       "4   31       1   99300.964220                 19                1   \n",
       "\n",
       "   TimeSpentOnWebsite  LoyaltyProgram  DiscountsAvailed  PurchaseStatus  \n",
       "0           30.568601               0                 5               1  \n",
       "1           38.240097               0                 5               0  \n",
       "2           31.633212               1                 0               1  \n",
       "3           46.167059               0                 4               1  \n",
       "4           19.823592               0                 0               1  "
      ]
     },
     "execution_count": 2,
     "metadata": {},
     "output_type": "execute_result"
    }
   ],
   "source": [
    "df=pd.read_csv(r\"C:\\Users\\dkdes\\OneDrive\\Desktop\\kaggle_datasets\\customer_purchase_data.csv\")\n",
    "df.head()"
   ]
  },
  {
   "cell_type": "code",
   "execution_count": 3,
   "id": "e0f9ddc7",
   "metadata": {},
   "outputs": [
    {
     "name": "stdout",
     "output_type": "stream",
     "text": [
      "<class 'pandas.core.frame.DataFrame'>\n",
      "RangeIndex: 1500 entries, 0 to 1499\n",
      "Data columns (total 9 columns):\n",
      " #   Column              Non-Null Count  Dtype  \n",
      "---  ------              --------------  -----  \n",
      " 0   Age                 1500 non-null   int64  \n",
      " 1   Gender              1500 non-null   int64  \n",
      " 2   AnnualIncome        1500 non-null   float64\n",
      " 3   NumberOfPurchases   1500 non-null   int64  \n",
      " 4   ProductCategory     1500 non-null   int64  \n",
      " 5   TimeSpentOnWebsite  1500 non-null   float64\n",
      " 6   LoyaltyProgram      1500 non-null   int64  \n",
      " 7   DiscountsAvailed    1500 non-null   int64  \n",
      " 8   PurchaseStatus      1500 non-null   int64  \n",
      "dtypes: float64(2), int64(7)\n",
      "memory usage: 105.6 KB\n"
     ]
    }
   ],
   "source": [
    "df.info()"
   ]
  },
  {
   "cell_type": "code",
   "execution_count": 4,
   "id": "6aa51c98",
   "metadata": {},
   "outputs": [
    {
     "data": {
      "image/png": "[encoded data removed]",
      "text/plain": [
       "<Figure size 1200x600 with 1 Axes>"
      ]
     },
     "metadata": {},
     "output_type": "display_data"
    },
    {
     "data": {
      "image/png": "[encoded data removed]",
      "text/plain": [
       "<Figure size 1200x600 with 1 Axes>"
      ]
     },
     "metadata": {},
     "output_type": "display_data"
    },
    {
     "data": {
      "image/png": "[encoded data removed]",
      "text/plain": [
       "<Figure size 1200x600 with 1 Axes>"
      ]
     },
     "metadata": {},
     "output_type": "display_data"
    },
    {
     "data": {
      "image/png": "[encoded data removed]",
      "text/plain": [
       "<Figure size 1200x600 with 1 Axes>"
      ]
     },
     "metadata": {},
     "output_type": "display_data"
    },
    {
     "data": {
      "image/png": "[encoded data removed]",
      "text/plain": [
       "<Figure size 1200x600 with 1 Axes>"
      ]
     },
     "metadata": {},
     "output_type": "display_data"
    }
   ],
   "source": [
    "columns_to_check = df.drop(['Gender','ProductCategory','LoyaltyProgram','PurchaseStatus'],axis=1)\n",
    "for col in columns_to_check:\n",
    "    plt.figure(figsize=(12, 6))\n",
    "    \n",
    "    # Box plot before outlier removal\n",
    "    plt.subplot(1, 2, 1)\n",
    "    sns.boxplot(x=df[col])\n",
    "    plt.title(f'Box Plot - {col} (Before Outlier Removal)')\n",
    "plt.show()"
   ]
  },
  {
   "cell_type": "code",
   "execution_count": 5,
   "id": "9191801f",
   "metadata": {},
   "outputs": [
    {
     "data": {
      "text/plain": [
       "<Figure size 800x500 with 0 Axes>"
      ]
     },
     "metadata": {},
     "output_type": "display_data"
    },
    {
     "data": {
      "image/png": "[encoded data removed]",
      "text/plain": [
       "<Figure size 500x500 with 1 Axes>"
      ]
     },
     "metadata": {},
     "output_type": "display_data"
    },
    {
     "data": {
      "text/plain": [
       "<Figure size 800x500 with 0 Axes>"
      ]
     },
     "metadata": {},
     "output_type": "display_data"
    },
    {
     "data": {
      "image/png": "[encoded data removed]",
      "text/plain": [
       "<Figure size 500x500 with 1 Axes>"
      ]
     },
     "metadata": {},
     "output_type": "display_data"
    },
    {
     "data": {
      "text/plain": [
       "<Figure size 800x500 with 0 Axes>"
      ]
     },
     "metadata": {},
     "output_type": "display_data"
    },
    {
     "data": {
      "image/png": "[encoded data removed]",
      "text/plain": [
       "<Figure size 500x500 with 1 Axes>"
      ]
     },
     "metadata": {},
     "output_type": "display_data"
    },
    {
     "data": {
      "text/plain": [
       "<Figure size 800x500 with 0 Axes>"
      ]
     },
     "metadata": {},
     "output_type": "display_data"
    },
    {
     "data": {
      "image/png": "[encoded data removed]",
      "text/plain": [
       "<Figure size 500x500 with 1 Axes>"
      ]
     },
     "metadata": {},
     "output_type": "display_data"
    },
    {
     "data": {
      "text/plain": [
       "<Figure size 800x500 with 0 Axes>"
      ]
     },
     "metadata": {},
     "output_type": "display_data"
    },
    {
     "data": {
      "image/png": "[encoded data removed]",
      "text/plain": [
       "<Figure size 500x500 with 1 Axes>"
      ]
     },
     "metadata": {},
     "output_type": "display_data"
    }
   ],
   "source": [
    "for col in columns_to_check:\n",
    "    plt.figure(figsize=(8, 5))\n",
    "    sns.displot(df[col], kde=True)\n",
    "    plt.title(f'Distribution Plot - {col}')\n",
    "    plt.show()"
   ]
  },
  {
   "cell_type": "code",
   "execution_count": 6,
   "id": "dc91063a",
   "metadata": {},
   "outputs": [
    {
     "data": {
      "text/html": [
       "<div>\n",
       "<style scoped>\n",
       "    .dataframe tbody tr th:only-of-type {\n",
       "        vertical-align: middle;\n",
       "    }\n",
       "\n",
       "    .dataframe tbody tr th {\n",
       "        vertical-align: top;\n",
       "    }\n",
       "\n",
       "    .dataframe thead th {\n",
       "        text-align: right;\n",
       "    }\n",
       "</style>\n",
       "<table border=\"1\" class=\"dataframe\">\n",
       "  <thead>\n",
       "    <tr style=\"text-align: right;\">\n",
       "      <th></th>\n",
       "      <th>Age</th>\n",
       "      <th>Gender</th>\n",
       "      <th>AnnualIncome</th>\n",
       "      <th>NumberOfPurchases</th>\n",
       "      <th>ProductCategory</th>\n",
       "      <th>TimeSpentOnWebsite</th>\n",
       "      <th>LoyaltyProgram</th>\n",
       "      <th>DiscountsAvailed</th>\n",
       "      <th>PurchaseStatus</th>\n",
       "    </tr>\n",
       "  </thead>\n",
       "  <tbody>\n",
       "    <tr>\n",
       "      <th>243</th>\n",
       "      <td>57</td>\n",
       "      <td>1</td>\n",
       "      <td>79069.053493</td>\n",
       "      <td>8</td>\n",
       "      <td>4</td>\n",
       "      <td>43.221622</td>\n",
       "      <td>0</td>\n",
       "      <td>2</td>\n",
       "      <td>0</td>\n",
       "    </tr>\n",
       "    <tr>\n",
       "      <th>271</th>\n",
       "      <td>43</td>\n",
       "      <td>0</td>\n",
       "      <td>101042.774561</td>\n",
       "      <td>14</td>\n",
       "      <td>4</td>\n",
       "      <td>1.596751</td>\n",
       "      <td>0</td>\n",
       "      <td>5</td>\n",
       "      <td>0</td>\n",
       "    </tr>\n",
       "    <tr>\n",
       "      <th>299</th>\n",
       "      <td>65</td>\n",
       "      <td>1</td>\n",
       "      <td>55499.205296</td>\n",
       "      <td>20</td>\n",
       "      <td>4</td>\n",
       "      <td>12.778100</td>\n",
       "      <td>0</td>\n",
       "      <td>5</td>\n",
       "      <td>0</td>\n",
       "    </tr>\n",
       "    <tr>\n",
       "      <th>304</th>\n",
       "      <td>50</td>\n",
       "      <td>0</td>\n",
       "      <td>41425.926045</td>\n",
       "      <td>6</td>\n",
       "      <td>0</td>\n",
       "      <td>29.865093</td>\n",
       "      <td>1</td>\n",
       "      <td>2</td>\n",
       "      <td>0</td>\n",
       "    </tr>\n",
       "    <tr>\n",
       "      <th>306</th>\n",
       "      <td>56</td>\n",
       "      <td>1</td>\n",
       "      <td>48679.553852</td>\n",
       "      <td>17</td>\n",
       "      <td>1</td>\n",
       "      <td>10.110530</td>\n",
       "      <td>0</td>\n",
       "      <td>3</td>\n",
       "      <td>0</td>\n",
       "    </tr>\n",
       "    <tr>\n",
       "      <th>...</th>\n",
       "      <td>...</td>\n",
       "      <td>...</td>\n",
       "      <td>...</td>\n",
       "      <td>...</td>\n",
       "      <td>...</td>\n",
       "      <td>...</td>\n",
       "      <td>...</td>\n",
       "      <td>...</td>\n",
       "      <td>...</td>\n",
       "    </tr>\n",
       "    <tr>\n",
       "      <th>1461</th>\n",
       "      <td>67</td>\n",
       "      <td>1</td>\n",
       "      <td>110466.885362</td>\n",
       "      <td>17</td>\n",
       "      <td>0</td>\n",
       "      <td>43.108669</td>\n",
       "      <td>0</td>\n",
       "      <td>1</td>\n",
       "      <td>0</td>\n",
       "    </tr>\n",
       "    <tr>\n",
       "      <th>1484</th>\n",
       "      <td>68</td>\n",
       "      <td>0</td>\n",
       "      <td>80311.223269</td>\n",
       "      <td>14</td>\n",
       "      <td>2</td>\n",
       "      <td>19.080098</td>\n",
       "      <td>0</td>\n",
       "      <td>3</td>\n",
       "      <td>0</td>\n",
       "    </tr>\n",
       "    <tr>\n",
       "      <th>1485</th>\n",
       "      <td>21</td>\n",
       "      <td>1</td>\n",
       "      <td>120794.999552</td>\n",
       "      <td>10</td>\n",
       "      <td>0</td>\n",
       "      <td>7.630770</td>\n",
       "      <td>0</td>\n",
       "      <td>2</td>\n",
       "      <td>0</td>\n",
       "    </tr>\n",
       "    <tr>\n",
       "      <th>1492</th>\n",
       "      <td>63</td>\n",
       "      <td>0</td>\n",
       "      <td>71874.591294</td>\n",
       "      <td>10</td>\n",
       "      <td>2</td>\n",
       "      <td>43.546243</td>\n",
       "      <td>0</td>\n",
       "      <td>1</td>\n",
       "      <td>0</td>\n",
       "    </tr>\n",
       "    <tr>\n",
       "      <th>1493</th>\n",
       "      <td>34</td>\n",
       "      <td>1</td>\n",
       "      <td>20418.374269</td>\n",
       "      <td>9</td>\n",
       "      <td>1</td>\n",
       "      <td>54.459955</td>\n",
       "      <td>0</td>\n",
       "      <td>0</td>\n",
       "      <td>0</td>\n",
       "    </tr>\n",
       "  </tbody>\n",
       "</table>\n",
       "<p>112 rows × 9 columns</p>\n",
       "</div>"
      ],
      "text/plain": [
       "      Age  Gender   AnnualIncome  NumberOfPurchases  ProductCategory  \\\n",
       "243    57       1   79069.053493                  8                4   \n",
       "271    43       0  101042.774561                 14                4   \n",
       "299    65       1   55499.205296                 20                4   \n",
       "304    50       0   41425.926045                  6                0   \n",
       "306    56       1   48679.553852                 17                1   \n",
       "...   ...     ...            ...                ...              ...   \n",
       "1461   67       1  110466.885362                 17                0   \n",
       "1484   68       0   80311.223269                 14                2   \n",
       "1485   21       1  120794.999552                 10                0   \n",
       "1492   63       0   71874.591294                 10                2   \n",
       "1493   34       1   20418.374269                  9                1   \n",
       "\n",
       "      TimeSpentOnWebsite  LoyaltyProgram  DiscountsAvailed  PurchaseStatus  \n",
       "243            43.221622               0                 2               0  \n",
       "271             1.596751               0                 5               0  \n",
       "299            12.778100               0                 5               0  \n",
       "304            29.865093               1                 2               0  \n",
       "306            10.110530               0                 3               0  \n",
       "...                  ...             ...               ...             ...  \n",
       "1461           43.108669               0                 1               0  \n",
       "1484           19.080098               0                 3               0  \n",
       "1485            7.630770               0                 2               0  \n",
       "1492           43.546243               0                 1               0  \n",
       "1493           54.459955               0                 0               0  \n",
       "\n",
       "[112 rows x 9 columns]"
      ]
     },
     "execution_count": 6,
     "metadata": {},
     "output_type": "execute_result"
    }
   ],
   "source": [
    "df[df.duplicated()]"
   ]
  },
  {
   "cell_type": "code",
   "execution_count": 7,
   "id": "b677e4ef",
   "metadata": {},
   "outputs": [
    {
     "name": "stdout",
     "output_type": "stream",
     "text": [
      "      Age  Gender   AnnualIncome  NumberOfPurchases  ProductCategory  \\\n",
      "7      64       1   39707.359724                 13                2   \n",
      "13     64       1   31880.893223                 17                0   \n",
      "22     46       1  133256.582694                  7                2   \n",
      "38     66       0  124009.225931                  7                4   \n",
      "45     61       1  114517.379010                 12                1   \n",
      "...   ...     ...            ...                ...              ...   \n",
      "1467   68       0   80311.223269                 14                2   \n",
      "1484   68       0   80311.223269                 14                2   \n",
      "1485   21       1  120794.999552                 10                0   \n",
      "1492   63       0   71874.591294                 10                2   \n",
      "1493   34       1   20418.374269                  9                1   \n",
      "\n",
      "      TimeSpentOnWebsite  LoyaltyProgram  DiscountsAvailed  PurchaseStatus  \n",
      "7              17.190292               1                 0               0  \n",
      "13             22.753473               1                 1               0  \n",
      "22             41.685401               0                 2               0  \n",
      "38             52.244617               0                 0               0  \n",
      "45             30.981960               0                 0               0  \n",
      "...                  ...             ...               ...             ...  \n",
      "1467           19.080098               0                 3               0  \n",
      "1484           19.080098               0                 3               0  \n",
      "1485            7.630770               0                 2               0  \n",
      "1492           43.546243               0                 1               0  \n",
      "1493           54.459955               0                 0               0  \n",
      "\n",
      "[224 rows x 9 columns]\n"
     ]
    }
   ],
   "source": [
    "duplicate_rows_including_first = df[df.duplicated(keep=False)]\n",
    "\n",
    "# Display all occurrences of duplicated rows\n",
    "print(duplicate_rows_including_first)\n"
   ]
  },
  {
   "cell_type": "code",
   "execution_count": 8,
   "id": "c37ac316",
   "metadata": {},
   "outputs": [
    {
     "data": {
      "text/html": [
       "<div>\n",
       "<style scoped>\n",
       "    .dataframe tbody tr th:only-of-type {\n",
       "        vertical-align: middle;\n",
       "    }\n",
       "\n",
       "    .dataframe tbody tr th {\n",
       "        vertical-align: top;\n",
       "    }\n",
       "\n",
       "    .dataframe thead th {\n",
       "        text-align: right;\n",
       "    }\n",
       "</style>\n",
       "<table border=\"1\" class=\"dataframe\">\n",
       "  <thead>\n",
       "    <tr style=\"text-align: right;\">\n",
       "      <th></th>\n",
       "      <th>Age</th>\n",
       "      <th>Gender</th>\n",
       "      <th>AnnualIncome</th>\n",
       "      <th>NumberOfPurchases</th>\n",
       "      <th>ProductCategory</th>\n",
       "      <th>TimeSpentOnWebsite</th>\n",
       "      <th>LoyaltyProgram</th>\n",
       "      <th>DiscountsAvailed</th>\n",
       "      <th>PurchaseStatus</th>\n",
       "    </tr>\n",
       "  </thead>\n",
       "  <tbody>\n",
       "    <tr>\n",
       "      <th>7</th>\n",
       "      <td>64</td>\n",
       "      <td>1</td>\n",
       "      <td>39707.359724</td>\n",
       "      <td>13</td>\n",
       "      <td>2</td>\n",
       "      <td>17.190292</td>\n",
       "      <td>1</td>\n",
       "      <td>0</td>\n",
       "      <td>0</td>\n",
       "    </tr>\n",
       "    <tr>\n",
       "      <th>13</th>\n",
       "      <td>64</td>\n",
       "      <td>1</td>\n",
       "      <td>31880.893223</td>\n",
       "      <td>17</td>\n",
       "      <td>0</td>\n",
       "      <td>22.753473</td>\n",
       "      <td>1</td>\n",
       "      <td>1</td>\n",
       "      <td>0</td>\n",
       "    </tr>\n",
       "    <tr>\n",
       "      <th>22</th>\n",
       "      <td>46</td>\n",
       "      <td>1</td>\n",
       "      <td>133256.582694</td>\n",
       "      <td>7</td>\n",
       "      <td>2</td>\n",
       "      <td>41.685401</td>\n",
       "      <td>0</td>\n",
       "      <td>2</td>\n",
       "      <td>0</td>\n",
       "    </tr>\n",
       "    <tr>\n",
       "      <th>38</th>\n",
       "      <td>66</td>\n",
       "      <td>0</td>\n",
       "      <td>124009.225931</td>\n",
       "      <td>7</td>\n",
       "      <td>4</td>\n",
       "      <td>52.244617</td>\n",
       "      <td>0</td>\n",
       "      <td>0</td>\n",
       "      <td>0</td>\n",
       "    </tr>\n",
       "    <tr>\n",
       "      <th>45</th>\n",
       "      <td>61</td>\n",
       "      <td>1</td>\n",
       "      <td>114517.379010</td>\n",
       "      <td>12</td>\n",
       "      <td>1</td>\n",
       "      <td>30.981960</td>\n",
       "      <td>0</td>\n",
       "      <td>0</td>\n",
       "      <td>0</td>\n",
       "    </tr>\n",
       "    <tr>\n",
       "      <th>...</th>\n",
       "      <td>...</td>\n",
       "      <td>...</td>\n",
       "      <td>...</td>\n",
       "      <td>...</td>\n",
       "      <td>...</td>\n",
       "      <td>...</td>\n",
       "      <td>...</td>\n",
       "      <td>...</td>\n",
       "      <td>...</td>\n",
       "    </tr>\n",
       "    <tr>\n",
       "      <th>1467</th>\n",
       "      <td>68</td>\n",
       "      <td>0</td>\n",
       "      <td>80311.223269</td>\n",
       "      <td>14</td>\n",
       "      <td>2</td>\n",
       "      <td>19.080098</td>\n",
       "      <td>0</td>\n",
       "      <td>3</td>\n",
       "      <td>0</td>\n",
       "    </tr>\n",
       "    <tr>\n",
       "      <th>1484</th>\n",
       "      <td>68</td>\n",
       "      <td>0</td>\n",
       "      <td>80311.223269</td>\n",
       "      <td>14</td>\n",
       "      <td>2</td>\n",
       "      <td>19.080098</td>\n",
       "      <td>0</td>\n",
       "      <td>3</td>\n",
       "      <td>0</td>\n",
       "    </tr>\n",
       "    <tr>\n",
       "      <th>1485</th>\n",
       "      <td>21</td>\n",
       "      <td>1</td>\n",
       "      <td>120794.999552</td>\n",
       "      <td>10</td>\n",
       "      <td>0</td>\n",
       "      <td>7.630770</td>\n",
       "      <td>0</td>\n",
       "      <td>2</td>\n",
       "      <td>0</td>\n",
       "    </tr>\n",
       "    <tr>\n",
       "      <th>1492</th>\n",
       "      <td>63</td>\n",
       "      <td>0</td>\n",
       "      <td>71874.591294</td>\n",
       "      <td>10</td>\n",
       "      <td>2</td>\n",
       "      <td>43.546243</td>\n",
       "      <td>0</td>\n",
       "      <td>1</td>\n",
       "      <td>0</td>\n",
       "    </tr>\n",
       "    <tr>\n",
       "      <th>1493</th>\n",
       "      <td>34</td>\n",
       "      <td>1</td>\n",
       "      <td>20418.374269</td>\n",
       "      <td>9</td>\n",
       "      <td>1</td>\n",
       "      <td>54.459955</td>\n",
       "      <td>0</td>\n",
       "      <td>0</td>\n",
       "      <td>0</td>\n",
       "    </tr>\n",
       "  </tbody>\n",
       "</table>\n",
       "<p>224 rows × 9 columns</p>\n",
       "</div>"
      ],
      "text/plain": [
       "      Age  Gender   AnnualIncome  NumberOfPurchases  ProductCategory  \\\n",
       "7      64       1   39707.359724                 13                2   \n",
       "13     64       1   31880.893223                 17                0   \n",
       "22     46       1  133256.582694                  7                2   \n",
       "38     66       0  124009.225931                  7                4   \n",
       "45     61       1  114517.379010                 12                1   \n",
       "...   ...     ...            ...                ...              ...   \n",
       "1467   68       0   80311.223269                 14                2   \n",
       "1484   68       0   80311.223269                 14                2   \n",
       "1485   21       1  120794.999552                 10                0   \n",
       "1492   63       0   71874.591294                 10                2   \n",
       "1493   34       1   20418.374269                  9                1   \n",
       "\n",
       "      TimeSpentOnWebsite  LoyaltyProgram  DiscountsAvailed  PurchaseStatus  \n",
       "7              17.190292               1                 0               0  \n",
       "13             22.753473               1                 1               0  \n",
       "22             41.685401               0                 2               0  \n",
       "38             52.244617               0                 0               0  \n",
       "45             30.981960               0                 0               0  \n",
       "...                  ...             ...               ...             ...  \n",
       "1467           19.080098               0                 3               0  \n",
       "1484           19.080098               0                 3               0  \n",
       "1485            7.630770               0                 2               0  \n",
       "1492           43.546243               0                 1               0  \n",
       "1493           54.459955               0                 0               0  \n",
       "\n",
       "[224 rows x 9 columns]"
      ]
     },
     "execution_count": 8,
     "metadata": {},
     "output_type": "execute_result"
    }
   ],
   "source": [
    "df[df.duplicated(keep=False)]"
   ]
  },
  {
   "cell_type": "code",
   "execution_count": 9,
   "id": "ff9eb627",
   "metadata": {},
   "outputs": [
    {
     "data": {
      "text/plain": [
       "(1500, 9)"
      ]
     },
     "execution_count": 9,
     "metadata": {},
     "output_type": "execute_result"
    }
   ],
   "source": [
    "df.shape"
   ]
  },
  {
   "cell_type": "code",
   "execution_count": 10,
   "id": "c85c416e",
   "metadata": {},
   "outputs": [],
   "source": [
    "df=df.drop_duplicates()"
   ]
  },
  {
   "cell_type": "code",
   "execution_count": 11,
   "id": "6fd2e280",
   "metadata": {},
   "outputs": [
    {
     "data": {
      "text/plain": [
       "(1388, 9)"
      ]
     },
     "execution_count": 11,
     "metadata": {},
     "output_type": "execute_result"
    }
   ],
   "source": [
    "df.shape"
   ]
  },
  {
   "cell_type": "code",
   "execution_count": 12,
   "id": "cf2f9834",
   "metadata": {},
   "outputs": [],
   "source": [
    "X=df.drop(\"PurchaseStatus\",axis=1)\n",
    "y=df[\"PurchaseStatus\"]"
   ]
  },
  {
   "cell_type": "markdown",
   "id": "012f19de",
   "metadata": {},
   "source": [
    "## Training ,Testing and scaling"
   ]
  },
  {
   "cell_type": "code",
   "execution_count": 13,
   "id": "1a925435",
   "metadata": {},
   "outputs": [],
   "source": [
    "X_train,X_test,y_train,y_test=train_test_split(X,y,test_size=0.2)"
   ]
  },
  {
   "cell_type": "code",
   "execution_count": 14,
   "id": "e1e1d00a",
   "metadata": {},
   "outputs": [],
   "source": [
    "scaler=ColumnTransformer(transformers=[('tnf1',StandardScaler(),['Age', 'Gender', 'AnnualIncome', 'NumberOfPurchases', 'ProductCategory',\n",
    "                                     'TimeSpentOnWebsite', 'LoyaltyProgram', 'DiscountsAvailed']),\n",
    "                                            ],\n",
    "                                            remainder='passthrough')"
   ]
  },
  {
   "cell_type": "code",
   "execution_count": 15,
   "id": "46dd0249",
   "metadata": {},
   "outputs": [],
   "source": [
    "X_train_trf = scaler.fit_transform(X_train)\n",
    "X_test_trf=scaler.transform(X_test)"
   ]
  },
  {
   "cell_type": "code",
   "execution_count": 16,
   "id": "ce47a94c",
   "metadata": {},
   "outputs": [
    {
     "data": {
      "text/plain": [
       "(1388, 9)"
      ]
     },
     "execution_count": 16,
     "metadata": {},
     "output_type": "execute_result"
    }
   ],
   "source": [
    "df.shape"
   ]
  },
  {
   "cell_type": "markdown",
   "id": "bbf29f1c",
   "metadata": {},
   "source": [
    "## Building ANN model"
   ]
  },
  {
   "cell_type": "code",
   "execution_count": 17,
   "id": "790c40b0",
   "metadata": {},
   "outputs": [],
   "source": [
    "model=Sequential()\n",
    "model.add(Dense(32,activation='relu',input_dim=8))\n",
    "model.add(BatchNormalization())\n",
    "model.add(Dropout(0.5))\n",
    "model.add(Dense(32,activation='relu'))\n",
    "model.add(BatchNormalization())\n",
    "model.add(Dropout(0.5))\n",
    "model.add(Dense(32,activation='relu'))\n",
    "model.add(BatchNormalization())\n",
    "model.add(Dropout(0.5))\n",
    "model.add(Dense(1,activation='sigmoid'))"
   ]
  },
  {
   "cell_type": "code",
   "execution_count": 18,
   "id": "ce9a46d9",
   "metadata": {},
   "outputs": [
    {
     "name": "stdout",
     "output_type": "stream",
     "text": [
      "Model: \"sequential\"\n",
      "_________________________________________________________________\n",
      " Layer (type)                Output Shape              Param #   \n",
      "=================================================================\n",
      " dense (Dense)               (None, 32)                288       \n",
      "                                                                 \n",
      " batch_normalization (Batch  (None, 32)                128       \n",
      " Normalization)                                                  \n",
      "                                                                 \n",
      " dropout (Dropout)           (None, 32)                0         \n",
      "                                                                 \n",
      " dense_1 (Dense)             (None, 32)                1056      \n",
      "                                                                 \n",
      " batch_normalization_1 (Bat  (None, 32)                128       \n",
      " chNormalization)                                                \n",
      "                                                                 \n",
      " dropout_1 (Dropout)         (None, 32)                0         \n",
      "                                                                 \n",
      " dense_2 (Dense)             (None, 32)                1056      \n",
      "                                                                 \n",
      " batch_normalization_2 (Bat  (None, 32)                128       \n",
      " chNormalization)                                                \n",
      "                                                                 \n",
      " dropout_2 (Dropout)         (None, 32)                0         \n",
      "                                                                 \n",
      " dense_3 (Dense)             (None, 1)                 33        \n",
      "                                                                 \n",
      "=================================================================\n",
      "Total params: 2817 (11.00 KB)\n",
      "Trainable params: 2625 (10.25 KB)\n",
      "Non-trainable params: 192 (768.00 Byte)\n",
      "_________________________________________________________________\n"
     ]
    }
   ],
   "source": [
    "model.summary()"
   ]
  },
  {
   "cell_type": "code",
   "execution_count": 19,
   "id": "fa55edce",
   "metadata": {},
   "outputs": [],
   "source": [
    "model.compile(optimizer=\"adam\",metrics=[\"accuracy\"],loss=\"binary_crossentropy\")"
   ]
  },
  {
   "cell_type": "code",
   "execution_count": 20,
   "id": "037d9d7f",
   "metadata": {},
   "outputs": [],
   "source": [
    "callbacks=EarlyStopping(monitor=\"val_loss\",patience=5)"
   ]
  },
  {
   "cell_type": "code",
   "execution_count": 21,
   "id": "35bc9d0f",
   "metadata": {},
   "outputs": [
    {
     "name": "stdout",
     "output_type": "stream",
     "text": [
      "Epoch 1/100\n",
      "18/18 [==============================] - 5s 41ms/step - loss: 0.9344 - accuracy: 0.5045 - val_loss: 0.6673 - val_accuracy: 0.6261\n",
      "Epoch 2/100\n",
      "18/18 [==============================] - 0s 11ms/step - loss: 0.8182 - accuracy: 0.5495 - val_loss: 0.6570 - val_accuracy: 0.6847\n",
      "Epoch 3/100\n",
      "18/18 [==============================] - 0s 9ms/step - loss: 0.8239 - accuracy: 0.5394 - val_loss: 0.6475 - val_accuracy: 0.7117\n",
      "Epoch 4/100\n",
      "18/18 [==============================] - 0s 8ms/step - loss: 0.7840 - accuracy: 0.5541 - val_loss: 0.6402 - val_accuracy: 0.7523\n",
      "Epoch 5/100\n",
      "18/18 [==============================] - 0s 8ms/step - loss: 0.7553 - accuracy: 0.5698 - val_loss: 0.6305 - val_accuracy: 0.7342\n",
      "Epoch 6/100\n",
      "18/18 [==============================] - 0s 9ms/step - loss: 0.7492 - accuracy: 0.5788 - val_loss: 0.6242 - val_accuracy: 0.7387\n",
      "Epoch 7/100\n",
      "18/18 [==============================] - 0s 9ms/step - loss: 0.7209 - accuracy: 0.5800 - val_loss: 0.6143 - val_accuracy: 0.7297\n",
      "Epoch 8/100\n",
      "18/18 [==============================] - 0s 14ms/step - loss: 0.7114 - accuracy: 0.6239 - val_loss: 0.6007 - val_accuracy: 0.7523\n",
      "Epoch 9/100\n",
      "18/18 [==============================] - 0s 10ms/step - loss: 0.7169 - accuracy: 0.5923 - val_loss: 0.5904 - val_accuracy: 0.7523\n",
      "Epoch 10/100\n",
      "18/18 [==============================] - 0s 19ms/step - loss: 0.7042 - accuracy: 0.5878 - val_loss: 0.5785 - val_accuracy: 0.7658\n",
      "Epoch 11/100\n",
      "18/18 [==============================] - 0s 12ms/step - loss: 0.6673 - accuracy: 0.6239 - val_loss: 0.5667 - val_accuracy: 0.7883\n",
      "Epoch 12/100\n",
      "18/18 [==============================] - 0s 7ms/step - loss: 0.6776 - accuracy: 0.6036 - val_loss: 0.5540 - val_accuracy: 0.7973\n",
      "Epoch 13/100\n",
      "18/18 [==============================] - 0s 8ms/step - loss: 0.6303 - accuracy: 0.6295 - val_loss: 0.5430 - val_accuracy: 0.7973\n",
      "Epoch 14/100\n",
      "18/18 [==============================] - 0s 11ms/step - loss: 0.6318 - accuracy: 0.6543 - val_loss: 0.5318 - val_accuracy: 0.8063\n",
      "Epoch 15/100\n",
      "18/18 [==============================] - 0s 11ms/step - loss: 0.6370 - accuracy: 0.6532 - val_loss: 0.5221 - val_accuracy: 0.8018\n",
      "Epoch 16/100\n",
      "18/18 [==============================] - 0s 19ms/step - loss: 0.6270 - accuracy: 0.6588 - val_loss: 0.5129 - val_accuracy: 0.8018\n",
      "Epoch 17/100\n",
      "18/18 [==============================] - 0s 15ms/step - loss: 0.6339 - accuracy: 0.6678 - val_loss: 0.5073 - val_accuracy: 0.8108\n",
      "Epoch 18/100\n",
      "18/18 [==============================] - 0s 9ms/step - loss: 0.6228 - accuracy: 0.6622 - val_loss: 0.5009 - val_accuracy: 0.8198\n",
      "Epoch 19/100\n",
      "18/18 [==============================] - 0s 9ms/step - loss: 0.6264 - accuracy: 0.6689 - val_loss: 0.4935 - val_accuracy: 0.8243\n",
      "Epoch 20/100\n",
      "18/18 [==============================] - 0s 13ms/step - loss: 0.5718 - accuracy: 0.6937 - val_loss: 0.4864 - val_accuracy: 0.8243\n",
      "Epoch 21/100\n",
      "18/18 [==============================] - 0s 14ms/step - loss: 0.6377 - accuracy: 0.6757 - val_loss: 0.4812 - val_accuracy: 0.8288\n",
      "Epoch 22/100\n",
      "18/18 [==============================] - 0s 10ms/step - loss: 0.6074 - accuracy: 0.6847 - val_loss: 0.4780 - val_accuracy: 0.8198\n",
      "Epoch 23/100\n",
      "18/18 [==============================] - 0s 10ms/step - loss: 0.5751 - accuracy: 0.6959 - val_loss: 0.4733 - val_accuracy: 0.8288\n",
      "Epoch 24/100\n",
      "18/18 [==============================] - 0s 14ms/step - loss: 0.5855 - accuracy: 0.6982 - val_loss: 0.4690 - val_accuracy: 0.8333\n",
      "Epoch 25/100\n",
      "18/18 [==============================] - 0s 11ms/step - loss: 0.5694 - accuracy: 0.6937 - val_loss: 0.4634 - val_accuracy: 0.8423\n",
      "Epoch 26/100\n",
      "18/18 [==============================] - 0s 9ms/step - loss: 0.5595 - accuracy: 0.7252 - val_loss: 0.4623 - val_accuracy: 0.8333\n",
      "Epoch 27/100\n",
      "18/18 [==============================] - 0s 13ms/step - loss: 0.5654 - accuracy: 0.7140 - val_loss: 0.4599 - val_accuracy: 0.8198\n",
      "Epoch 28/100\n",
      "18/18 [==============================] - 0s 19ms/step - loss: 0.5619 - accuracy: 0.7275 - val_loss: 0.4575 - val_accuracy: 0.8333\n",
      "Epoch 29/100\n",
      "18/18 [==============================] - 0s 13ms/step - loss: 0.5562 - accuracy: 0.7162 - val_loss: 0.4565 - val_accuracy: 0.8333\n",
      "Epoch 30/100\n",
      "18/18 [==============================] - 0s 9ms/step - loss: 0.5660 - accuracy: 0.7196 - val_loss: 0.4529 - val_accuracy: 0.8288\n",
      "Epoch 31/100\n",
      "18/18 [==============================] - 0s 11ms/step - loss: 0.5749 - accuracy: 0.7095 - val_loss: 0.4488 - val_accuracy: 0.8333\n",
      "Epoch 32/100\n",
      "18/18 [==============================] - 0s 9ms/step - loss: 0.5556 - accuracy: 0.7185 - val_loss: 0.4462 - val_accuracy: 0.8378\n",
      "Epoch 33/100\n",
      "18/18 [==============================] - 0s 14ms/step - loss: 0.5372 - accuracy: 0.7286 - val_loss: 0.4417 - val_accuracy: 0.8423\n",
      "Epoch 34/100\n",
      "18/18 [==============================] - 0s 12ms/step - loss: 0.5234 - accuracy: 0.7477 - val_loss: 0.4404 - val_accuracy: 0.8378\n",
      "Epoch 35/100\n",
      "18/18 [==============================] - 0s 9ms/step - loss: 0.5522 - accuracy: 0.7072 - val_loss: 0.4368 - val_accuracy: 0.8378\n",
      "Epoch 36/100\n",
      "18/18 [==============================] - 0s 11ms/step - loss: 0.5328 - accuracy: 0.7534 - val_loss: 0.4349 - val_accuracy: 0.8423\n",
      "Epoch 37/100\n",
      "18/18 [==============================] - 0s 8ms/step - loss: 0.5379 - accuracy: 0.7399 - val_loss: 0.4352 - val_accuracy: 0.8423\n",
      "Epoch 38/100\n",
      "18/18 [==============================] - 0s 8ms/step - loss: 0.5291 - accuracy: 0.7477 - val_loss: 0.4335 - val_accuracy: 0.8468\n",
      "Epoch 39/100\n",
      "18/18 [==============================] - 0s 8ms/step - loss: 0.5272 - accuracy: 0.7387 - val_loss: 0.4311 - val_accuracy: 0.8378\n",
      "Epoch 40/100\n",
      "18/18 [==============================] - 0s 9ms/step - loss: 0.5216 - accuracy: 0.7387 - val_loss: 0.4281 - val_accuracy: 0.8423\n",
      "Epoch 41/100\n",
      "18/18 [==============================] - 0s 11ms/step - loss: 0.5097 - accuracy: 0.7523 - val_loss: 0.4250 - val_accuracy: 0.8514\n",
      "Epoch 42/100\n",
      "18/18 [==============================] - 0s 9ms/step - loss: 0.5178 - accuracy: 0.7523 - val_loss: 0.4266 - val_accuracy: 0.8468\n",
      "Epoch 43/100\n",
      "18/18 [==============================] - 0s 11ms/step - loss: 0.5198 - accuracy: 0.7556 - val_loss: 0.4268 - val_accuracy: 0.8468\n",
      "Epoch 44/100\n",
      "18/18 [==============================] - 0s 19ms/step - loss: 0.5358 - accuracy: 0.7545 - val_loss: 0.4268 - val_accuracy: 0.8378\n",
      "Epoch 45/100\n",
      "18/18 [==============================] - 0s 17ms/step - loss: 0.5149 - accuracy: 0.7444 - val_loss: 0.4255 - val_accuracy: 0.8559\n",
      "Epoch 46/100\n",
      "18/18 [==============================] - 0s 10ms/step - loss: 0.5159 - accuracy: 0.7646 - val_loss: 0.4254 - val_accuracy: 0.8514\n"
     ]
    }
   ],
   "source": [
    "history=model.fit(X_train_trf,y_train,validation_split=0.2,epochs=100,batch_size=52,callbacks=callbacks)"
   ]
  },
  {
   "cell_type": "markdown",
   "id": "d9ee6d21",
   "metadata": {},
   "source": [
    "## Using Keras Tuner for best Hyperparameters"
   ]
  },
  {
   "cell_type": "code",
   "execution_count": 22,
   "id": "26c14a35",
   "metadata": {},
   "outputs": [],
   "source": [
    "import keras_tuner as kt\n",
    "import os\n",
    "import shutil\n",
    "tuner_dir = 'my_dir'\n",
    "if os.path.exists(tuner_dir):\n",
    "    shutil.rmtree(tuner_dir)\n",
    "\n",
    "def build_model(hp):\n",
    "    model = Sequential()\n",
    "    num_layers = hp.Int(\"num_layers\", min_value=1, max_value=10)\n",
    "    \n",
    "    for i in range(num_layers):\n",
    "        if i == 0:\n",
    "            model.add(Dense(\n",
    "                units=hp.Int(f\"units_{i}\", min_value=16, max_value=128, step=8),\n",
    "                activation=hp.Choice(f\"activation_{i}\", values=[\"relu\", \"tanh\", \"sigmoid\"]),\n",
    "                input_dim=8 \n",
    "            ))\n",
    "        else:\n",
    "            model.add(Dense(\n",
    "                units=hp.Int(f\"units_{i}\", min_value=16, max_value=128, step=8),\n",
    "                activation=hp.Choice(f\"activation_{i}\", values=[\"relu\", \"tanh\", \"sigmoid\"])\n",
    "            ))\n",
    "        model.add(BatchNormalization())\n",
    "        model.add(Dropout(rate=hp.Float(f\"dropout_{i}\", min_value=0.0, max_value=0.9, step=0.1)))\n",
    "    \n",
    "    model.add(Dense(1, activation='sigmoid'))  \n",
    "    model.compile(\n",
    "        optimizer=hp.Choice(\"optimizer\", values=[\"adam\", \"rmsprop\", \"sgd\", \"nadam\", \"adadelta\"]),\n",
    "        loss=\"binary_crossentropy\",  \n",
    "        metrics=[\"accuracy\"]\n",
    "    )\n",
    "    return model\n"
   ]
  },
  {
   "cell_type": "code",
   "execution_count": 23,
   "id": "45310bf9",
   "metadata": {},
   "outputs": [],
   "source": [
    "tuner = kt.RandomSearch(\n",
    "    build_model,\n",
    "    objective=\"val_accuracy\",\n",
    "    max_trials=3,\n",
    "    directory=tuner_dir,\n",
    "    project_name='my_project'\n",
    ")"
   ]
  },
  {
   "cell_type": "code",
   "execution_count": 24,
   "id": "fd9bcf66",
   "metadata": {},
   "outputs": [
    {
     "name": "stdout",
     "output_type": "stream",
     "text": [
      "Trial 3 Complete [00h 00m 15s]\n",
      "val_accuracy: 0.5467625856399536\n",
      "\n",
      "Best val_accuracy So Far: 0.6187050342559814\n",
      "Total elapsed time: 00h 00m 34s\n"
     ]
    }
   ],
   "source": [
    "tuner.search(X_train_trf,y_train,epochs=5,validation_data=(X_test_trf,y_test))"
   ]
  },
  {
   "cell_type": "code",
   "execution_count": 25,
   "id": "7440b39a",
   "metadata": {},
   "outputs": [
    {
     "data": {
      "text/plain": [
       "{'num_layers': 10,\n",
       " 'units_0': 32,\n",
       " 'activation_0': 'tanh',\n",
       " 'dropout_0': 0.30000000000000004,\n",
       " 'optimizer': 'adam',\n",
       " 'units_1': 16,\n",
       " 'activation_1': 'relu',\n",
       " 'dropout_1': 0.0,\n",
       " 'units_2': 16,\n",
       " 'activation_2': 'relu',\n",
       " 'dropout_2': 0.0,\n",
       " 'units_3': 16,\n",
       " 'activation_3': 'relu',\n",
       " 'dropout_3': 0.0,\n",
       " 'units_4': 16,\n",
       " 'activation_4': 'relu',\n",
       " 'dropout_4': 0.0,\n",
       " 'units_5': 16,\n",
       " 'activation_5': 'relu',\n",
       " 'dropout_5': 0.0,\n",
       " 'units_6': 16,\n",
       " 'activation_6': 'relu',\n",
       " 'dropout_6': 0.0,\n",
       " 'units_7': 16,\n",
       " 'activation_7': 'relu',\n",
       " 'dropout_7': 0.0,\n",
       " 'units_8': 16,\n",
       " 'activation_8': 'relu',\n",
       " 'dropout_8': 0.0,\n",
       " 'units_9': 16,\n",
       " 'activation_9': 'relu',\n",
       " 'dropout_9': 0.0}"
      ]
     },
     "execution_count": 25,
     "metadata": {},
     "output_type": "execute_result"
    }
   ],
   "source": [
    "tuner.get_best_hyperparameters()[0].values"
   ]
  },
  {
   "cell_type": "code",
   "execution_count": 26,
   "id": "8f6da5c9",
   "metadata": {},
   "outputs": [],
   "source": [
    "model=tuner.get_best_models(num_models=1)[0]"
   ]
  },
  {
   "cell_type": "code",
   "execution_count": 27,
   "id": "c0511963",
   "metadata": {},
   "outputs": [
    {
     "name": "stdout",
     "output_type": "stream",
     "text": [
      "Epoch 1/100\n",
      "28/28 [==============================] - 11s 37ms/step - loss: 0.6498 - accuracy: 0.6385 - val_loss: 0.6629 - val_accuracy: 0.6126\n",
      "Epoch 2/100\n",
      "28/28 [==============================] - 0s 12ms/step - loss: 0.6351 - accuracy: 0.6216 - val_loss: 0.6443 - val_accuracy: 0.6892\n",
      "Epoch 3/100\n",
      "28/28 [==============================] - 0s 11ms/step - loss: 0.6318 - accuracy: 0.6374 - val_loss: 0.6295 - val_accuracy: 0.6892\n",
      "Epoch 4/100\n",
      "28/28 [==============================] - 0s 11ms/step - loss: 0.6177 - accuracy: 0.6678 - val_loss: 0.6150 - val_accuracy: 0.6982\n",
      "Epoch 5/100\n",
      "28/28 [==============================] - 0s 12ms/step - loss: 0.6108 - accuracy: 0.6689 - val_loss: 0.5814 - val_accuracy: 0.7117\n",
      "Epoch 6/100\n",
      "28/28 [==============================] - 0s 10ms/step - loss: 0.6051 - accuracy: 0.6712 - val_loss: 0.5588 - val_accuracy: 0.7072\n",
      "Epoch 7/100\n",
      "28/28 [==============================] - 0s 7ms/step - loss: 0.5914 - accuracy: 0.6836 - val_loss: 0.5560 - val_accuracy: 0.7297\n",
      "Epoch 8/100\n",
      "28/28 [==============================] - 0s 14ms/step - loss: 0.5786 - accuracy: 0.6914 - val_loss: 0.5482 - val_accuracy: 0.7162\n",
      "Epoch 9/100\n",
      "28/28 [==============================] - 0s 12ms/step - loss: 0.5851 - accuracy: 0.7061 - val_loss: 0.5483 - val_accuracy: 0.7252\n",
      "Epoch 10/100\n",
      "28/28 [==============================] - 0s 11ms/step - loss: 0.5768 - accuracy: 0.6993 - val_loss: 0.5460 - val_accuracy: 0.7297\n",
      "Epoch 11/100\n",
      "28/28 [==============================] - 0s 11ms/step - loss: 0.5531 - accuracy: 0.7241 - val_loss: 0.5189 - val_accuracy: 0.7477\n",
      "Epoch 12/100\n",
      "28/28 [==============================] - 0s 12ms/step - loss: 0.5419 - accuracy: 0.7252 - val_loss: 0.4977 - val_accuracy: 0.7568\n",
      "Epoch 13/100\n",
      "28/28 [==============================] - 1s 22ms/step - loss: 0.5518 - accuracy: 0.7297 - val_loss: 0.4917 - val_accuracy: 0.7703\n",
      "Epoch 14/100\n",
      "28/28 [==============================] - 0s 12ms/step - loss: 0.5329 - accuracy: 0.7399 - val_loss: 0.4791 - val_accuracy: 0.7883\n",
      "Epoch 15/100\n",
      "28/28 [==============================] - 0s 10ms/step - loss: 0.5222 - accuracy: 0.7477 - val_loss: 0.4882 - val_accuracy: 0.7883\n",
      "Epoch 16/100\n",
      "28/28 [==============================] - 0s 14ms/step - loss: 0.5299 - accuracy: 0.7376 - val_loss: 0.4888 - val_accuracy: 0.7793\n",
      "Epoch 17/100\n",
      "28/28 [==============================] - 0s 11ms/step - loss: 0.5196 - accuracy: 0.7545 - val_loss: 0.4724 - val_accuracy: 0.7973\n",
      "Epoch 18/100\n",
      "28/28 [==============================] - 0s 10ms/step - loss: 0.4988 - accuracy: 0.7624 - val_loss: 0.4622 - val_accuracy: 0.8018\n",
      "Epoch 19/100\n",
      "28/28 [==============================] - 0s 12ms/step - loss: 0.4921 - accuracy: 0.7624 - val_loss: 0.4472 - val_accuracy: 0.8153\n",
      "Epoch 20/100\n",
      "28/28 [==============================] - 0s 12ms/step - loss: 0.5066 - accuracy: 0.7523 - val_loss: 0.4481 - val_accuracy: 0.7973\n",
      "Epoch 21/100\n",
      "28/28 [==============================] - 0s 14ms/step - loss: 0.5121 - accuracy: 0.7579 - val_loss: 0.4533 - val_accuracy: 0.8063\n",
      "Epoch 22/100\n",
      "28/28 [==============================] - 0s 10ms/step - loss: 0.4792 - accuracy: 0.7658 - val_loss: 0.4443 - val_accuracy: 0.8108\n",
      "Epoch 23/100\n",
      "28/28 [==============================] - 0s 11ms/step - loss: 0.4976 - accuracy: 0.7534 - val_loss: 0.4488 - val_accuracy: 0.8108\n",
      "Epoch 24/100\n",
      "28/28 [==============================] - 1s 25ms/step - loss: 0.4987 - accuracy: 0.7590 - val_loss: 0.4443 - val_accuracy: 0.8153\n",
      "Epoch 25/100\n",
      "28/28 [==============================] - 0s 13ms/step - loss: 0.4615 - accuracy: 0.7804 - val_loss: 0.4517 - val_accuracy: 0.8018\n",
      "Epoch 26/100\n",
      "28/28 [==============================] - 0s 10ms/step - loss: 0.4895 - accuracy: 0.7815 - val_loss: 0.4451 - val_accuracy: 0.8063\n",
      "Epoch 27/100\n",
      "28/28 [==============================] - 0s 13ms/step - loss: 0.4699 - accuracy: 0.7883 - val_loss: 0.4476 - val_accuracy: 0.8153\n",
      "Epoch 28/100\n",
      "28/28 [==============================] - 0s 12ms/step - loss: 0.4703 - accuracy: 0.7804 - val_loss: 0.4459 - val_accuracy: 0.7973\n",
      "Epoch 29/100\n",
      "28/28 [==============================] - 1s 21ms/step - loss: 0.4867 - accuracy: 0.7714 - val_loss: 0.4404 - val_accuracy: 0.8198\n",
      "Epoch 30/100\n",
      "28/28 [==============================] - 0s 14ms/step - loss: 0.4939 - accuracy: 0.7736 - val_loss: 0.4364 - val_accuracy: 0.8288\n",
      "Epoch 31/100\n",
      "28/28 [==============================] - 1s 21ms/step - loss: 0.4615 - accuracy: 0.7860 - val_loss: 0.4289 - val_accuracy: 0.8153\n",
      "Epoch 32/100\n",
      "28/28 [==============================] - 0s 11ms/step - loss: 0.4786 - accuracy: 0.7714 - val_loss: 0.4256 - val_accuracy: 0.8333\n",
      "Epoch 33/100\n",
      "28/28 [==============================] - 0s 11ms/step - loss: 0.4583 - accuracy: 0.7905 - val_loss: 0.4252 - val_accuracy: 0.8243\n",
      "Epoch 34/100\n",
      "28/28 [==============================] - 0s 11ms/step - loss: 0.4715 - accuracy: 0.7770 - val_loss: 0.4338 - val_accuracy: 0.8243\n",
      "Epoch 35/100\n",
      "28/28 [==============================] - 1s 21ms/step - loss: 0.4584 - accuracy: 0.7973 - val_loss: 0.4300 - val_accuracy: 0.8243\n",
      "Epoch 36/100\n",
      "28/28 [==============================] - 0s 12ms/step - loss: 0.4598 - accuracy: 0.7905 - val_loss: 0.4359 - val_accuracy: 0.8108\n",
      "Epoch 37/100\n",
      "28/28 [==============================] - 0s 14ms/step - loss: 0.4563 - accuracy: 0.7984 - val_loss: 0.4342 - val_accuracy: 0.8108\n",
      "Epoch 38/100\n",
      "28/28 [==============================] - 0s 11ms/step - loss: 0.4322 - accuracy: 0.8052 - val_loss: 0.4403 - val_accuracy: 0.8108\n"
     ]
    },
    {
     "data": {
      "text/plain": [
       "<keras.src.callbacks.History at 0x26f7db436d0>"
      ]
     },
     "execution_count": 27,
     "metadata": {},
     "output_type": "execute_result"
    }
   ],
   "source": [
    "model.fit(X_train_trf,y_train,epochs=100,validation_split=0.2,callbacks=callbacks)"
   ]
  },
  {
   "cell_type": "markdown",
   "id": "ca9344c3",
   "metadata": {},
   "source": [
    "## Training ML algorithms "
   ]
  },
  {
   "cell_type": "code",
   "execution_count": 28,
   "id": "fdf860e7",
   "metadata": {},
   "outputs": [
    {
     "name": "stdout",
     "output_type": "stream",
     "text": [
      "accuracy:0.802158273381295\n",
      "precison:0.7886178861788617\n",
      "recall:0.7698412698412699\n",
      "f1:0.7791164658634538\n",
      "Test accuracy: 0.802077922077922\n",
      "Training accuracy: 0.8171171171171171\n"
     ]
    }
   ],
   "source": [
    "lr=LogisticRegression(penalty=None)\n",
    "lr.fit(X_train_trf,y_train)\n",
    "y_pred=lr.predict(X_test_trf)\n",
    "accuracy=accuracy_score(y_test,y_pred)\n",
    "precision=precision_score(y_test,y_pred)\n",
    "recall=recall_score(y_test,y_pred)\n",
    "f1=f1_score(y_test,y_pred)\n",
    "\n",
    "print(f\"accuracy:{accuracy}\")\n",
    "print(f\"precison:{precision}\")\n",
    "print(f\"recall:{recall}\")\n",
    "print(f\"f1:{f1}\")\n",
    "print(\"Test accuracy:\",np.mean(cross_val_score(lr,X_test_trf,y_test,scoring=\"accuracy\",cv=5)))\n",
    "print(\"Training accuracy:\",np.mean(cross_val_score(lr,X_train_trf,y_train,scoring=\"accuracy\",cv=5)))"
   ]
  },
  {
   "cell_type": "code",
   "execution_count": 29,
   "id": "bd442ca3",
   "metadata": {},
   "outputs": [
    {
     "name": "stdout",
     "output_type": "stream",
     "text": [
      "accuracy:0.9316546762589928\n",
      "precison:0.9421487603305785\n",
      "recall:0.9047619047619048\n",
      "f1:0.9230769230769231\n",
      "Test accuracy: 0.8449350649350649\n",
      "Training accuracy: 0.9243243243243244\n"
     ]
    }
   ],
   "source": [
    "rf=RandomForestClassifier(n_estimators=300)\n",
    "rf.fit(X_train_trf,y_train)\n",
    "y_pred=rf.predict(X_test_trf)\n",
    "accuracy=accuracy_score(y_test,y_pred)\n",
    "precision=precision_score(y_test,y_pred)\n",
    "recall=recall_score(y_test,y_pred)\n",
    "f1=f1_score(y_test,y_pred)\n",
    "\n",
    "print(f\"accuracy:{accuracy}\")\n",
    "print(f\"precison:{precision}\")\n",
    "print(f\"recall:{recall}\")\n",
    "print(f\"f1:{f1}\")\n",
    "print(\"Test accuracy:\",np.mean(cross_val_score(rf,X_test_trf,y_test,scoring=\"accuracy\",cv=5)))\n",
    "print(\"Training accuracy:\",np.mean(cross_val_score(rf,X_train_trf,y_train,scoring=\"accuracy\",cv=5)))"
   ]
  },
  {
   "cell_type": "code",
   "execution_count": 30,
   "id": "0bb8d54e",
   "metadata": {},
   "outputs": [
    {
     "name": "stdout",
     "output_type": "stream",
     "text": [
      "accuracy:0.8453237410071942\n",
      "precison:0.8487394957983193\n",
      "recall:0.8015873015873016\n",
      "f1:0.8244897959183674\n",
      "Test accuracy: 0.8020779220779222\n",
      "Training accuracy: 0.8432432432432433\n"
     ]
    }
   ],
   "source": [
    "svm=SVC(C=0.5,kernel=\"rbf\")\n",
    "svm.fit(X_train_trf,y_train)\n",
    "y_pred=svm.predict(X_test_trf)\n",
    "accuracy=accuracy_score(y_test,y_pred)\n",
    "precision=precision_score(y_test,y_pred)\n",
    "recall=recall_score(y_test,y_pred)\n",
    "f1=f1_score(y_test,y_pred)\n",
    "\n",
    "print(f\"accuracy:{accuracy}\")\n",
    "print(f\"precison:{precision}\")\n",
    "print(f\"recall:{recall}\")\n",
    "print(f\"f1:{f1}\")\n",
    "print(\"Test accuracy:\",np.mean(cross_val_score(svm,X_test_trf,y_test,scoring=\"accuracy\",cv=5)))\n",
    "print(\"Training accuracy:\",np.mean(cross_val_score(svm,X_train_trf,y_train,scoring=\"accuracy\",cv=5)))"
   ]
  },
  {
   "cell_type": "code",
   "execution_count": 31,
   "id": "3a8af8ab",
   "metadata": {},
   "outputs": [],
   "source": [
    "# Creating Pipeline for app deployment on streamlit\n",
    "pipeline = Pipeline([\n",
    "    ('scaler', scaler),\n",
    "    ('classifier', rf)\n",
    "])"
   ]
  },
  {
   "cell_type": "code",
   "execution_count": 32,
   "id": "7be5cf87",
   "metadata": {},
   "outputs": [],
   "source": [
    "with open(\"Customer_Purchase_model2.pkl\",\"wb\") as file:\n",
    "    pkl.dump(pipeline,file)"
   ]
  },
  {
   "cell_type": "code",
   "execution_count": null,
   "id": "4b3b4ff4",
   "metadata": {},
   "outputs": [],
   "source": []
  }
 ],
 "metadata": {
  "kernelspec": {
   "display_name": "Python 3 (ipykernel)",
   "language": "python",
   "name": "python3"
  },
  "language_info": {
   "codemirror_mode": {
    "name": "ipython",
    "version": 3
   },
   "file_extension": ".py",
   "mimetype": "text/x-python",
   "name": "python",
   "nbconvert_exporter": "python",
   "pygments_lexer": "ipython3",
   "version": "3.10.4"
  }
 },
 "nbformat": 4,
 "nbformat_minor": 5
}
