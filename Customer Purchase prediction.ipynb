{
 "cells": [
  {
   "cell_type": "code",
   "execution_count": 1,
   "id": "060db715",
   "metadata": {},
   "outputs": [],
   "source": [
    "# All imports required \n",
    "import numpy as np\n",
    "import pandas as pd\n",
    "import matplotlib.pyplot as plt\n",
    "import seaborn as sns\n",
    "from sklearn.preprocessing import StandardScaler\n",
    "from sklearn.compose import ColumnTransformer\n",
    "from sklearn.model_selection import train_test_split,cross_val_score\n",
    "import tensorflow as tf\n",
    "from tensorflow import keras\n",
    "from tensorflow.keras import Sequential\n",
    "from tensorflow.keras.layers import Dense,Dropout,BatchNormalization\n",
    "from tensorflow.keras.callbacks import EarlyStopping\n",
    "from sklearn.metrics import accuracy_score,precision_score,recall_score,f1_score\n",
    "from sklearn.linear_model import LogisticRegression\n",
    "from sklearn.ensemble import RandomForestClassifier\n",
    "from sklearn.svm import SVC\n",
    "from sklearn.pipeline import Pipeline\n",
    "import pickle as pkl"
   ]
  },
  {
   "cell_type": "markdown",
   "id": "32abd155",
   "metadata": {},
   "source": [
    "## Exploratory Data Analysis"
   ]
  },
  {
   "cell_type": "code",
   "execution_count": 2,
   "id": "414abbb0",
   "metadata": {},
   "outputs": [
    {
     "data": {
      "text/html": [
       "<div>\n",
       "<style scoped>\n",
       "    .dataframe tbody tr th:only-of-type {\n",
       "        vertical-align: middle;\n",
       "    }\n",
       "\n",
       "    .dataframe tbody tr th {\n",
       "        vertical-align: top;\n",
       "    }\n",
       "\n",
       "    .dataframe thead th {\n",
       "        text-align: right;\n",
       "    }\n",
       "</style>\n",
       "<table border=\"1\" class=\"dataframe\">\n",
       "  <thead>\n",
       "    <tr style=\"text-align: right;\">\n",
       "      <th></th>\n",
       "      <th>Age</th>\n",
       "      <th>Gender</th>\n",
       "      <th>AnnualIncome</th>\n",
       "      <th>NumberOfPurchases</th>\n",
       "      <th>ProductCategory</th>\n",
       "      <th>TimeSpentOnWebsite</th>\n",
       "      <th>LoyaltyProgram</th>\n",
       "      <th>DiscountsAvailed</th>\n",
       "      <th>PurchaseStatus</th>\n",
       "    </tr>\n",
       "  </thead>\n",
       "  <tbody>\n",
       "    <tr>\n",
       "      <th>0</th>\n",
       "      <td>40</td>\n",
       "      <td>1</td>\n",
       "      <td>66120.267939</td>\n",
       "      <td>8</td>\n",
       "      <td>0</td>\n",
       "      <td>30.568601</td>\n",
       "      <td>0</td>\n",
       "      <td>5</td>\n",
       "      <td>1</td>\n",
       "    </tr>\n",
       "    <tr>\n",
       "      <th>1</th>\n",
       "      <td>20</td>\n",
       "      <td>1</td>\n",
       "      <td>23579.773583</td>\n",
       "      <td>4</td>\n",
       "      <td>2</td>\n",
       "      <td>38.240097</td>\n",
       "      <td>0</td>\n",
       "      <td>5</td>\n",
       "      <td>0</td>\n",
       "    </tr>\n",
       "    <tr>\n",
       "      <th>2</th>\n",
       "      <td>27</td>\n",
       "      <td>1</td>\n",
       "      <td>127821.306432</td>\n",
       "      <td>11</td>\n",
       "      <td>2</td>\n",
       "      <td>31.633212</td>\n",
       "      <td>1</td>\n",
       "      <td>0</td>\n",
       "      <td>1</td>\n",
       "    </tr>\n",
       "    <tr>\n",
       "      <th>3</th>\n",
       "      <td>24</td>\n",
       "      <td>1</td>\n",
       "      <td>137798.623120</td>\n",
       "      <td>19</td>\n",
       "      <td>3</td>\n",
       "      <td>46.167059</td>\n",
       "      <td>0</td>\n",
       "      <td>4</td>\n",
       "      <td>1</td>\n",
       "    </tr>\n",
       "    <tr>\n",
       "      <th>4</th>\n",
       "      <td>31</td>\n",
       "      <td>1</td>\n",
       "      <td>99300.964220</td>\n",
       "      <td>19</td>\n",
       "      <td>1</td>\n",
       "      <td>19.823592</td>\n",
       "      <td>0</td>\n",
       "      <td>0</td>\n",
       "      <td>1</td>\n",
       "    </tr>\n",
       "  </tbody>\n",
       "</table>\n",
       "</div>"
      ],
      "text/plain": [
       "   Age  Gender   AnnualIncome  NumberOfPurchases  ProductCategory  \\\n",
       "0   40       1   66120.267939                  8                0   \n",
       "1   20       1   23579.773583                  4                2   \n",
       "2   27       1  127821.306432                 11                2   \n",
       "3   24       1  137798.623120                 19                3   \n",
       "4   31       1   99300.964220                 19                1   \n",
       "\n",
       "   TimeSpentOnWebsite  LoyaltyProgram  DiscountsAvailed  PurchaseStatus  \n",
       "0           30.568601               0                 5               1  \n",
       "1           38.240097               0                 5               0  \n",
       "2           31.633212               1                 0               1  \n",
       "3           46.167059               0                 4               1  \n",
       "4           19.823592               0                 0               1  "
      ]
     },
     "execution_count": 2,
     "metadata": {},
     "output_type": "execute_result"
    }
   ],
   "source": [
    "df=pd.read_csv(r\"C:\\Users\\dkdes\\OneDrive\\Desktop\\kaggle_datasets\\customer_purchase_data.csv\")\n",
    "df.head()"
   ]
  },
  {
   "cell_type": "code",
   "execution_count": 3,
   "id": "e0f9ddc7",
   "metadata": {},
   "outputs": [
    {
     "name": "stdout",
     "output_type": "stream",
     "text": [
      "<class 'pandas.core.frame.DataFrame'>\n",
      "RangeIndex: 1500 entries, 0 to 1499\n",
      "Data columns (total 9 columns):\n",
      " #   Column              Non-Null Count  Dtype  \n",
      "---  ------              --------------  -----  \n",
      " 0   Age                 1500 non-null   int64  \n",
      " 1   Gender              1500 non-null   int64  \n",
      " 2   AnnualIncome        1500 non-null   float64\n",
      " 3   NumberOfPurchases   1500 non-null   int64  \n",
      " 4   ProductCategory     1500 non-null   int64  \n",
      " 5   TimeSpentOnWebsite  1500 non-null   float64\n",
      " 6   LoyaltyProgram      1500 non-null   int64  \n",
      " 7   DiscountsAvailed    1500 non-null   int64  \n",
      " 8   PurchaseStatus      1500 non-null   int64  \n",
      "dtypes: float64(2), int64(7)\n",
      "memory usage: 105.6 KB\n"
     ]
    }
   ],
   "source": [
    "df.info()"
   ]
  },
  {
   "cell_type": "code",
   "execution_count": 4,
   "id": "cf2f9834",
   "metadata": {},
   "outputs": [],
   "source": [
    "X=df.drop(\"PurchaseStatus\",axis=1)\n",
    "y=df[\"PurchaseStatus\"]"
   ]
  },
  {
   "cell_type": "markdown",
   "id": "c0b21869",
   "metadata": {},
   "source": [
    "## Training ,Testing and scaling"
   ]
  },
  {
   "cell_type": "code",
   "execution_count": 5,
   "id": "1a925435",
   "metadata": {},
   "outputs": [],
   "source": [
    "X_train,X_test,y_train,y_test=train_test_split(X,y,test_size=0.2)"
   ]
  },
  {
   "cell_type": "code",
   "execution_count": 6,
   "id": "e1e1d00a",
   "metadata": {},
   "outputs": [],
   "source": [
    "scaler=ColumnTransformer(transformers=[('tnf1',StandardScaler(),['Age', 'Gender', 'AnnualIncome', 'NumberOfPurchases', 'ProductCategory',\n",
    "                                     'TimeSpentOnWebsite', 'LoyaltyProgram', 'DiscountsAvailed']),\n",
    "                                            ],\n",
    "                                            remainder='passthrough')"
   ]
  },
  {
   "cell_type": "code",
   "execution_count": 7,
   "id": "46dd0249",
   "metadata": {},
   "outputs": [],
   "source": [
    "X_train_trf = scaler.fit_transform(X_train)\n",
    "X_test_trf=scaler.transform(X_test)"
   ]
  },
  {
   "cell_type": "code",
   "execution_count": 8,
   "id": "ce47a94c",
   "metadata": {},
   "outputs": [
    {
     "data": {
      "text/plain": [
       "(1500, 9)"
      ]
     },
     "execution_count": 8,
     "metadata": {},
     "output_type": "execute_result"
    }
   ],
   "source": [
    "df.shape"
   ]
  },
  {
   "cell_type": "markdown",
   "id": "7d5ef7e8",
   "metadata": {},
   "source": [
    "## Building ANN model"
   ]
  },
  {
   "cell_type": "code",
   "execution_count": 9,
   "id": "790c40b0",
   "metadata": {},
   "outputs": [],
   "source": [
    "model=Sequential()\n",
    "model.add(Dense(32,activation='relu',input_dim=8))\n",
    "model.add(BatchNormalization())\n",
    "model.add(Dropout(0.5))\n",
    "model.add(Dense(32,activation='relu'))\n",
    "model.add(BatchNormalization())\n",
    "model.add(Dropout(0.5))\n",
    "model.add(Dense(32,activation='relu'))\n",
    "model.add(BatchNormalization())\n",
    "model.add(Dropout(0.5))\n",
    "model.add(Dense(1,activation='sigmoid'))"
   ]
  },
  {
   "cell_type": "code",
   "execution_count": 10,
   "id": "ce9a46d9",
   "metadata": {},
   "outputs": [
    {
     "name": "stdout",
     "output_type": "stream",
     "text": [
      "Model: \"sequential\"\n",
      "_________________________________________________________________\n",
      " Layer (type)                Output Shape              Param #   \n",
      "=================================================================\n",
      " dense (Dense)               (None, 32)                288       \n",
      "                                                                 \n",
      " batch_normalization (Batch  (None, 32)                128       \n",
      " Normalization)                                                  \n",
      "                                                                 \n",
      " dropout (Dropout)           (None, 32)                0         \n",
      "                                                                 \n",
      " dense_1 (Dense)             (None, 32)                1056      \n",
      "                                                                 \n",
      " batch_normalization_1 (Bat  (None, 32)                128       \n",
      " chNormalization)                                                \n",
      "                                                                 \n",
      " dropout_1 (Dropout)         (None, 32)                0         \n",
      "                                                                 \n",
      " dense_2 (Dense)             (None, 32)                1056      \n",
      "                                                                 \n",
      " batch_normalization_2 (Bat  (None, 32)                128       \n",
      " chNormalization)                                                \n",
      "                                                                 \n",
      " dropout_2 (Dropout)         (None, 32)                0         \n",
      "                                                                 \n",
      " dense_3 (Dense)             (None, 1)                 33        \n",
      "                                                                 \n",
      "=================================================================\n",
      "Total params: 2817 (11.00 KB)\n",
      "Trainable params: 2625 (10.25 KB)\n",
      "Non-trainable params: 192 (768.00 Byte)\n",
      "_________________________________________________________________\n"
     ]
    }
   ],
   "source": [
    "model.summary()"
   ]
  },
  {
   "cell_type": "code",
   "execution_count": 11,
   "id": "fa55edce",
   "metadata": {},
   "outputs": [],
   "source": [
    "model.compile(optimizer=\"adam\",metrics=[\"accuracy\"],loss=\"binary_crossentropy\")"
   ]
  },
  {
   "cell_type": "code",
   "execution_count": 12,
   "id": "037d9d7f",
   "metadata": {},
   "outputs": [],
   "source": [
    "callbacks=EarlyStopping(monitor=\"val_loss\",patience=5)"
   ]
  },
  {
   "cell_type": "code",
   "execution_count": 13,
   "id": "35bc9d0f",
   "metadata": {},
   "outputs": [
    {
     "name": "stdout",
     "output_type": "stream",
     "text": [
      "Epoch 1/100\n",
      "19/19 [==============================] - 2s 16ms/step - loss: 0.9403 - accuracy: 0.5844 - val_loss: 0.6716 - val_accuracy: 0.6375\n",
      "Epoch 2/100\n",
      "19/19 [==============================] - 0s 4ms/step - loss: 0.9068 - accuracy: 0.5510 - val_loss: 0.6583 - val_accuracy: 0.5958\n",
      "Epoch 3/100\n",
      "19/19 [==============================] - 0s 3ms/step - loss: 0.7672 - accuracy: 0.6302 - val_loss: 0.6452 - val_accuracy: 0.6042\n",
      "Epoch 4/100\n",
      "19/19 [==============================] - 0s 4ms/step - loss: 0.7994 - accuracy: 0.5938 - val_loss: 0.6347 - val_accuracy: 0.6208\n",
      "Epoch 5/100\n",
      "19/19 [==============================] - 0s 4ms/step - loss: 0.7226 - accuracy: 0.6438 - val_loss: 0.6232 - val_accuracy: 0.6292\n",
      "Epoch 6/100\n",
      "19/19 [==============================] - 0s 3ms/step - loss: 0.7056 - accuracy: 0.6406 - val_loss: 0.6137 - val_accuracy: 0.6375\n",
      "Epoch 7/100\n",
      "19/19 [==============================] - 0s 4ms/step - loss: 0.7353 - accuracy: 0.6469 - val_loss: 0.5983 - val_accuracy: 0.6500\n",
      "Epoch 8/100\n",
      "19/19 [==============================] - 0s 3ms/step - loss: 0.6628 - accuracy: 0.6698 - val_loss: 0.5855 - val_accuracy: 0.6625\n",
      "Epoch 9/100\n",
      "19/19 [==============================] - 0s 3ms/step - loss: 0.6767 - accuracy: 0.6656 - val_loss: 0.5697 - val_accuracy: 0.6917\n",
      "Epoch 10/100\n",
      "19/19 [==============================] - 0s 4ms/step - loss: 0.5938 - accuracy: 0.7000 - val_loss: 0.5578 - val_accuracy: 0.6958\n",
      "Epoch 11/100\n",
      "19/19 [==============================] - 0s 3ms/step - loss: 0.6257 - accuracy: 0.6875 - val_loss: 0.5420 - val_accuracy: 0.7042\n",
      "Epoch 12/100\n",
      "19/19 [==============================] - 0s 4ms/step - loss: 0.6132 - accuracy: 0.6854 - val_loss: 0.5283 - val_accuracy: 0.7375\n",
      "Epoch 13/100\n",
      "19/19 [==============================] - 0s 4ms/step - loss: 0.5845 - accuracy: 0.7115 - val_loss: 0.5157 - val_accuracy: 0.7333\n",
      "Epoch 14/100\n",
      "19/19 [==============================] - 0s 3ms/step - loss: 0.6133 - accuracy: 0.7000 - val_loss: 0.5067 - val_accuracy: 0.7375\n",
      "Epoch 15/100\n",
      "19/19 [==============================] - 0s 5ms/step - loss: 0.5871 - accuracy: 0.7073 - val_loss: 0.4984 - val_accuracy: 0.7375\n",
      "Epoch 16/100\n",
      "19/19 [==============================] - 0s 4ms/step - loss: 0.5266 - accuracy: 0.7354 - val_loss: 0.4905 - val_accuracy: 0.7583\n",
      "Epoch 17/100\n",
      "19/19 [==============================] - 0s 4ms/step - loss: 0.5486 - accuracy: 0.7250 - val_loss: 0.4854 - val_accuracy: 0.7583\n",
      "Epoch 18/100\n",
      "19/19 [==============================] - 0s 3ms/step - loss: 0.5509 - accuracy: 0.7396 - val_loss: 0.4788 - val_accuracy: 0.7750\n",
      "Epoch 19/100\n",
      "19/19 [==============================] - 0s 4ms/step - loss: 0.5486 - accuracy: 0.7375 - val_loss: 0.4755 - val_accuracy: 0.7750\n",
      "Epoch 20/100\n",
      "19/19 [==============================] - 0s 4ms/step - loss: 0.5298 - accuracy: 0.7375 - val_loss: 0.4718 - val_accuracy: 0.7875\n",
      "Epoch 21/100\n",
      "19/19 [==============================] - 0s 4ms/step - loss: 0.5401 - accuracy: 0.7458 - val_loss: 0.4678 - val_accuracy: 0.7792\n",
      "Epoch 22/100\n",
      "19/19 [==============================] - 0s 4ms/step - loss: 0.5340 - accuracy: 0.7563 - val_loss: 0.4624 - val_accuracy: 0.7875\n",
      "Epoch 23/100\n",
      "19/19 [==============================] - 0s 3ms/step - loss: 0.5215 - accuracy: 0.7698 - val_loss: 0.4590 - val_accuracy: 0.8000\n",
      "Epoch 24/100\n",
      "19/19 [==============================] - 0s 3ms/step - loss: 0.5090 - accuracy: 0.7719 - val_loss: 0.4557 - val_accuracy: 0.8000\n",
      "Epoch 25/100\n",
      "19/19 [==============================] - 0s 4ms/step - loss: 0.5492 - accuracy: 0.7437 - val_loss: 0.4541 - val_accuracy: 0.8083\n",
      "Epoch 26/100\n",
      "19/19 [==============================] - 0s 4ms/step - loss: 0.5227 - accuracy: 0.7604 - val_loss: 0.4516 - val_accuracy: 0.8042\n",
      "Epoch 27/100\n",
      "19/19 [==============================] - 0s 4ms/step - loss: 0.4969 - accuracy: 0.7688 - val_loss: 0.4511 - val_accuracy: 0.8000\n",
      "Epoch 28/100\n",
      "19/19 [==============================] - 0s 4ms/step - loss: 0.5291 - accuracy: 0.7573 - val_loss: 0.4480 - val_accuracy: 0.8042\n",
      "Epoch 29/100\n",
      "19/19 [==============================] - 0s 4ms/step - loss: 0.5021 - accuracy: 0.7563 - val_loss: 0.4458 - val_accuracy: 0.8083\n",
      "Epoch 30/100\n",
      "19/19 [==============================] - 0s 4ms/step - loss: 0.5024 - accuracy: 0.7771 - val_loss: 0.4426 - val_accuracy: 0.8125\n",
      "Epoch 31/100\n",
      "19/19 [==============================] - 0s 3ms/step - loss: 0.4679 - accuracy: 0.7917 - val_loss: 0.4404 - val_accuracy: 0.8208\n",
      "Epoch 32/100\n",
      "19/19 [==============================] - 0s 4ms/step - loss: 0.4924 - accuracy: 0.7625 - val_loss: 0.4383 - val_accuracy: 0.8167\n",
      "Epoch 33/100\n",
      "19/19 [==============================] - 0s 3ms/step - loss: 0.5057 - accuracy: 0.7594 - val_loss: 0.4374 - val_accuracy: 0.8208\n",
      "Epoch 34/100\n",
      "19/19 [==============================] - 0s 3ms/step - loss: 0.4914 - accuracy: 0.7708 - val_loss: 0.4353 - val_accuracy: 0.8250\n",
      "Epoch 35/100\n",
      "19/19 [==============================] - 0s 4ms/step - loss: 0.4868 - accuracy: 0.7771 - val_loss: 0.4352 - val_accuracy: 0.8250\n",
      "Epoch 36/100\n",
      "19/19 [==============================] - 0s 4ms/step - loss: 0.4911 - accuracy: 0.7760 - val_loss: 0.4360 - val_accuracy: 0.8250\n",
      "Epoch 37/100\n",
      "19/19 [==============================] - 0s 3ms/step - loss: 0.4713 - accuracy: 0.7812 - val_loss: 0.4332 - val_accuracy: 0.8208\n",
      "Epoch 38/100\n",
      "19/19 [==============================] - 0s 3ms/step - loss: 0.4929 - accuracy: 0.7854 - val_loss: 0.4312 - val_accuracy: 0.8208\n",
      "Epoch 39/100\n",
      "19/19 [==============================] - 0s 3ms/step - loss: 0.4404 - accuracy: 0.8125 - val_loss: 0.4299 - val_accuracy: 0.8333\n",
      "Epoch 40/100\n",
      "19/19 [==============================] - 0s 3ms/step - loss: 0.4808 - accuracy: 0.7948 - val_loss: 0.4288 - val_accuracy: 0.8333\n",
      "Epoch 41/100\n",
      "19/19 [==============================] - 0s 3ms/step - loss: 0.4620 - accuracy: 0.7958 - val_loss: 0.4285 - val_accuracy: 0.8292\n",
      "Epoch 42/100\n",
      "19/19 [==============================] - 0s 3ms/step - loss: 0.4730 - accuracy: 0.7937 - val_loss: 0.4278 - val_accuracy: 0.8292\n",
      "Epoch 43/100\n",
      "19/19 [==============================] - 0s 3ms/step - loss: 0.4785 - accuracy: 0.8177 - val_loss: 0.4274 - val_accuracy: 0.8417\n",
      "Epoch 44/100\n",
      "19/19 [==============================] - 0s 3ms/step - loss: 0.4854 - accuracy: 0.7771 - val_loss: 0.4269 - val_accuracy: 0.8417\n",
      "Epoch 45/100\n",
      "19/19 [==============================] - 0s 3ms/step - loss: 0.4750 - accuracy: 0.7781 - val_loss: 0.4264 - val_accuracy: 0.8375\n",
      "Epoch 46/100\n",
      "19/19 [==============================] - 0s 4ms/step - loss: 0.4717 - accuracy: 0.7823 - val_loss: 0.4268 - val_accuracy: 0.8417\n",
      "Epoch 47/100\n",
      "19/19 [==============================] - 0s 3ms/step - loss: 0.4639 - accuracy: 0.8010 - val_loss: 0.4271 - val_accuracy: 0.8417\n",
      "Epoch 48/100\n",
      "19/19 [==============================] - 0s 3ms/step - loss: 0.4672 - accuracy: 0.7979 - val_loss: 0.4250 - val_accuracy: 0.8417\n",
      "Epoch 49/100\n",
      "19/19 [==============================] - 0s 3ms/step - loss: 0.4663 - accuracy: 0.7917 - val_loss: 0.4251 - val_accuracy: 0.8458\n",
      "Epoch 50/100\n",
      "19/19 [==============================] - 0s 3ms/step - loss: 0.4534 - accuracy: 0.8042 - val_loss: 0.4234 - val_accuracy: 0.8500\n",
      "Epoch 51/100\n",
      "19/19 [==============================] - 0s 4ms/step - loss: 0.4659 - accuracy: 0.7917 - val_loss: 0.4213 - val_accuracy: 0.8458\n",
      "Epoch 52/100\n",
      "19/19 [==============================] - 0s 3ms/step - loss: 0.4719 - accuracy: 0.7865 - val_loss: 0.4220 - val_accuracy: 0.8458\n",
      "Epoch 53/100\n",
      "19/19 [==============================] - 0s 3ms/step - loss: 0.4623 - accuracy: 0.8010 - val_loss: 0.4224 - val_accuracy: 0.8417\n",
      "Epoch 54/100\n",
      "19/19 [==============================] - 0s 4ms/step - loss: 0.4555 - accuracy: 0.8000 - val_loss: 0.4221 - val_accuracy: 0.8458\n",
      "Epoch 55/100\n",
      "19/19 [==============================] - 0s 3ms/step - loss: 0.4403 - accuracy: 0.7990 - val_loss: 0.4236 - val_accuracy: 0.8417\n",
      "Epoch 56/100\n",
      "19/19 [==============================] - 0s 4ms/step - loss: 0.4471 - accuracy: 0.7906 - val_loss: 0.4243 - val_accuracy: 0.8375\n"
     ]
    }
   ],
   "source": [
    "history=model.fit(X_train_trf,y_train,validation_split=0.2,epochs=100,batch_size=52,callbacks=callbacks)"
   ]
  },
  {
   "cell_type": "markdown",
   "id": "2f84263e",
   "metadata": {},
   "source": [
    " #### We are getting 90% accuracy but validation accuracy is only 84% showing that model is Overfitting"
   ]
  },
  {
   "cell_type": "markdown",
   "id": "efa2b4a5",
   "metadata": {},
   "source": [
    "## Using Keras Tuner for best Hyperparameters"
   ]
  },
  {
   "cell_type": "code",
   "execution_count": 14,
   "id": "26c14a35",
   "metadata": {},
   "outputs": [],
   "source": [
    "import keras_tuner as kt\n",
    "import os\n",
    "import shutil\n",
    "tuner_dir = 'my_dir'\n",
    "if os.path.exists(tuner_dir):\n",
    "    shutil.rmtree(tuner_dir)\n",
    "\n",
    "def build_model(hp):\n",
    "    model = Sequential()\n",
    "    num_layers = hp.Int(\"num_layers\", min_value=1, max_value=10)\n",
    "    \n",
    "    for i in range(num_layers):\n",
    "        if i == 0:\n",
    "            model.add(Dense(\n",
    "                units=hp.Int(f\"units_{i}\", min_value=16, max_value=128, step=8),\n",
    "                activation=hp.Choice(f\"activation_{i}\", values=[\"relu\", \"tanh\", \"sigmoid\"]),\n",
    "                input_dim=8 \n",
    "            ))\n",
    "        else:\n",
    "            model.add(Dense(\n",
    "                units=hp.Int(f\"units_{i}\", min_value=16, max_value=128, step=8),\n",
    "                activation=hp.Choice(f\"activation_{i}\", values=[\"relu\", \"tanh\", \"sigmoid\"])\n",
    "            ))\n",
    "        model.add(BatchNormalization())\n",
    "        model.add(Dropout(rate=hp.Float(f\"dropout_{i}\", min_value=0.0, max_value=0.9, step=0.1)))\n",
    "    \n",
    "    model.add(Dense(1, activation='sigmoid'))  \n",
    "    model.compile(\n",
    "        optimizer=hp.Choice(\"optimizer\", values=[\"adam\", \"rmsprop\", \"sgd\", \"nadam\", \"adadelta\"]),\n",
    "        loss=\"binary_crossentropy\",  \n",
    "        metrics=[\"accuracy\"]\n",
    "    )\n",
    "    return model\n"
   ]
  },
  {
   "cell_type": "code",
   "execution_count": 15,
   "id": "45310bf9",
   "metadata": {},
   "outputs": [],
   "source": [
    "tuner = kt.RandomSearch(\n",
    "    build_model,\n",
    "    objective=\"val_accuracy\",\n",
    "    max_trials=3,\n",
    "    directory=tuner_dir,\n",
    "    project_name='my_project'\n",
    ")"
   ]
  },
  {
   "cell_type": "code",
   "execution_count": 16,
   "id": "fd9bcf66",
   "metadata": {},
   "outputs": [
    {
     "name": "stdout",
     "output_type": "stream",
     "text": [
      "Trial 3 Complete [00h 00m 03s]\n",
      "val_accuracy: 0.8233333230018616\n",
      "\n",
      "Best val_accuracy So Far: 0.8233333230018616\n",
      "Total elapsed time: 00h 00m 13s\n"
     ]
    }
   ],
   "source": [
    "tuner.search(X_train_trf,y_train,epochs=5,validation_data=(X_test_trf,y_test))"
   ]
  },
  {
   "cell_type": "code",
   "execution_count": 17,
   "id": "7440b39a",
   "metadata": {},
   "outputs": [
    {
     "data": {
      "text/plain": [
       "{'num_layers': 3,\n",
       " 'units_0': 120,\n",
       " 'activation_0': 'relu',\n",
       " 'dropout_0': 0.30000000000000004,\n",
       " 'optimizer': 'rmsprop',\n",
       " 'units_1': 40,\n",
       " 'activation_1': 'sigmoid',\n",
       " 'dropout_1': 0.0,\n",
       " 'units_2': 16,\n",
       " 'activation_2': 'relu',\n",
       " 'dropout_2': 0.5,\n",
       " 'units_3': 120,\n",
       " 'activation_3': 'relu',\n",
       " 'dropout_3': 0.8,\n",
       " 'units_4': 40,\n",
       " 'activation_4': 'sigmoid',\n",
       " 'dropout_4': 0.30000000000000004}"
      ]
     },
     "execution_count": 17,
     "metadata": {},
     "output_type": "execute_result"
    }
   ],
   "source": [
    "tuner.get_best_hyperparameters()[0].values"
   ]
  },
  {
   "cell_type": "code",
   "execution_count": 18,
   "id": "8f6da5c9",
   "metadata": {},
   "outputs": [],
   "source": [
    "model=tuner.get_best_models(num_models=1)[0]"
   ]
  },
  {
   "cell_type": "code",
   "execution_count": 43,
   "id": "c0511963",
   "metadata": {},
   "outputs": [
    {
     "name": "stdout",
     "output_type": "stream",
     "text": [
      "Epoch 1/100\n",
      "30/30 [==============================] - 0s 4ms/step - loss: 0.1636 - accuracy: 0.9396 - val_loss: 0.4895 - val_accuracy: 0.8583\n",
      "Epoch 2/100\n",
      "30/30 [==============================] - 0s 3ms/step - loss: 0.1939 - accuracy: 0.9177 - val_loss: 0.4853 - val_accuracy: 0.8417\n",
      "Epoch 3/100\n",
      "30/30 [==============================] - 0s 4ms/step - loss: 0.1998 - accuracy: 0.9302 - val_loss: 0.4839 - val_accuracy: 0.8542\n",
      "Epoch 4/100\n",
      "30/30 [==============================] - 0s 3ms/step - loss: 0.1798 - accuracy: 0.9333 - val_loss: 0.5006 - val_accuracy: 0.8333\n",
      "Epoch 5/100\n",
      "30/30 [==============================] - 0s 3ms/step - loss: 0.2004 - accuracy: 0.9312 - val_loss: 0.5034 - val_accuracy: 0.8292\n",
      "Epoch 6/100\n",
      "30/30 [==============================] - 0s 3ms/step - loss: 0.1607 - accuracy: 0.9385 - val_loss: 0.5226 - val_accuracy: 0.8333\n",
      "Epoch 7/100\n",
      "30/30 [==============================] - 0s 3ms/step - loss: 0.1731 - accuracy: 0.9271 - val_loss: 0.5062 - val_accuracy: 0.8333\n",
      "Epoch 8/100\n",
      "30/30 [==============================] - 0s 3ms/step - loss: 0.1945 - accuracy: 0.9198 - val_loss: 0.5055 - val_accuracy: 0.8500\n"
     ]
    },
    {
     "data": {
      "text/plain": [
       "<keras.src.callbacks.History at 0x2600851a0b0>"
      ]
     },
     "execution_count": 43,
     "metadata": {},
     "output_type": "execute_result"
    }
   ],
   "source": [
    "model.fit(X_train_trf,y_train,epochs=100,validation_split=0.2,callbacks=callbacks)"
   ]
  },
  {
   "cell_type": "markdown",
   "id": "6431bef4",
   "metadata": {},
   "source": [
    "## Training ML algorithms "
   ]
  },
  {
   "cell_type": "code",
   "execution_count": 39,
   "id": "fdf860e7",
   "metadata": {},
   "outputs": [
    {
     "name": "stdout",
     "output_type": "stream",
     "text": [
      "accuracy:0.8066666666666666\n",
      "precison:0.7844827586206896\n",
      "recall:0.7338709677419355\n",
      "f1:0.7583333333333333\n",
      "Test accuracy: 0.79\n",
      "Training accuracy: 0.8166666666666668\n"
     ]
    }
   ],
   "source": [
    "lr=LogisticRegression(penalty=None)\n",
    "lr.fit(X_train_trf,y_train)\n",
    "y_pred=lr.predict(X_test_trf)\n",
    "accuracy=accuracy_score(y_test,y_pred)\n",
    "precision=precision_score(y_test,y_pred)\n",
    "recall=recall_score(y_test,y_pred)\n",
    "f1=f1_score(y_test,y_pred)\n",
    "\n",
    "print(f\"accuracy:{accuracy}\")\n",
    "print(f\"precison:{precision}\")\n",
    "print(f\"recall:{recall}\")\n",
    "print(f\"f1:{f1}\")\n",
    "print(\"Test accuracy:\",np.mean(cross_val_score(lr,X_test_trf,y_test,scoring=\"accuracy\",cv=5)))\n",
    "print(\"Training accuracy:\",np.mean(cross_val_score(lr,X_train_trf,y_train,scoring=\"accuracy\",cv=5)))"
   ]
  },
  {
   "cell_type": "code",
   "execution_count": 31,
   "id": "bd442ca3",
   "metadata": {},
   "outputs": [
    {
     "name": "stdout",
     "output_type": "stream",
     "text": [
      "accuracy:0.9333333333333333\n",
      "precison:0.9482758620689655\n",
      "recall:0.8870967741935484\n",
      "f1:0.9166666666666666\n",
      "Test accuracy: 0.85\n",
      "Training accuracy: 0.9266666666666667\n"
     ]
    }
   ],
   "source": [
    "rf=RandomForestClassifier(n_estimators=300)\n",
    "rf.fit(X_train_trf,y_train)\n",
    "y_pred=rf.predict(X_test_trf)\n",
    "accuracy=accuracy_score(y_test,y_pred)\n",
    "precision=precision_score(y_test,y_pred)\n",
    "recall=recall_score(y_test,y_pred)\n",
    "f1=f1_score(y_test,y_pred)\n",
    "\n",
    "print(f\"accuracy:{accuracy}\")\n",
    "print(f\"precison:{precision}\")\n",
    "print(f\"recall:{recall}\")\n",
    "print(f\"f1:{f1}\")\n",
    "print(\"Test accuracy:\",np.mean(cross_val_score(rf,X_test_trf,y_test,scoring=\"accuracy\",cv=5)))\n",
    "print(\"Training accuracy:\",np.mean(cross_val_score(rf,X_train_trf,y_train,scoring=\"accuracy\",cv=5)))"
   ]
  },
  {
   "cell_type": "code",
   "execution_count": 32,
   "id": "0bb8d54e",
   "metadata": {},
   "outputs": [
    {
     "name": "stdout",
     "output_type": "stream",
     "text": [
      "accuracy:0.86\n",
      "precison:0.8596491228070176\n",
      "recall:0.7903225806451613\n",
      "f1:0.8235294117647058\n",
      "Test accuracy: 0.79\n",
      "Training accuracy: 0.8558333333333333\n"
     ]
    }
   ],
   "source": [
    "svm=SVC(C=0.5,kernel=\"rbf\")\n",
    "svm.fit(X_train_trf,y_train)\n",
    "y_pred=svm.predict(X_test_trf)\n",
    "accuracy=accuracy_score(y_test,y_pred)\n",
    "precision=precision_score(y_test,y_pred)\n",
    "recall=recall_score(y_test,y_pred)\n",
    "f1=f1_score(y_test,y_pred)\n",
    "\n",
    "print(f\"accuracy:{accuracy}\")\n",
    "print(f\"precison:{precision}\")\n",
    "print(f\"recall:{recall}\")\n",
    "print(f\"f1:{f1}\")\n",
    "print(\"Test accuracy:\",np.mean(cross_val_score(svm,X_test_trf,y_test,scoring=\"accuracy\",cv=5)))\n",
    "print(\"Training accuracy:\",np.mean(cross_val_score(svm,X_train_trf,y_train,scoring=\"accuracy\",cv=5)))"
   ]
  },
  {
   "cell_type": "code",
   "execution_count": null,
   "id": "3a8af8ab",
   "metadata": {},
   "outputs": [],
   "source": [
    "# Creating Pipeline for app deployment on streamlit\n",
    "pipeline = Pipeline([\n",
    "    ('scaler', scaler),\n",
    "    ('classifier', rf)\n",
    "])"
   ]
  },
  {
   "cell_type": "code",
   "execution_count": null,
   "id": "7be5cf87",
   "metadata": {},
   "outputs": [],
   "source": [
    "with open(\"Customer_Purchase_model2.pkl\",\"wb\") as file:\n",
    "    pkl.dump(pipeline,file)"
   ]
  },
  {
   "cell_type": "code",
   "execution_count": null,
   "id": "20d2b69b",
   "metadata": {},
   "outputs": [],
   "source": []
  }
 ],
 "metadata": {
  "kernelspec": {
   "display_name": "Python 3 (ipykernel)",
   "language": "python",
   "name": "python3"
  },
  "language_info": {
   "codemirror_mode": {
    "name": "ipython",
    "version": 3
   },
   "file_extension": ".py",
   "mimetype": "text/x-python",
   "name": "python",
   "nbconvert_exporter": "python",
   "pygments_lexer": "ipython3",
   "version": "3.10.4"
  }
 },
 "nbformat": 4,
 "nbformat_minor": 5
}
